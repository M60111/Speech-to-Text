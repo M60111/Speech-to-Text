{
 "cells": [
  {
   "cell_type": "code",
   "execution_count": 2,
   "metadata": {},
   "outputs": [],
   "source": [
    "import numpy as np\n",
    "import wave\n",
    "import os\n",
    "\n",
    "def loaddata (path):\n",
    "    f = wave.open(path,'rb')\n",
    "    frames = f.readframes(-1)\n",
    "\n",
    "    data = np.fromstring(frames, dtype='uint8')\n",
    "\n",
    "    arr  = np.array(data)/255\n",
    "    return arr"
   ]
  },
  {
   "cell_type": "code",
   "execution_count": 3,
   "metadata": {},
   "outputs": [],
   "source": [
    "traindata=[]\n",
    "trainlb=[]\n",
    "folder = \"/Users/mohammedalnuaimi/Desktop/Speech to Text Convertor/WAV Files\"\n",
    "file=os.listdir(folder)\n"
   ]
  },
  {
   "cell_type": "code",
   "execution_count": 9,
   "metadata": {},
   "outputs": [
    {
     "name": "stderr",
     "output_type": "stream",
     "text": [
      "/anaconda3/lib/python3.6/site-packages/ipykernel_launcher.py:9: DeprecationWarning: The binary mode of fromstring is deprecated, as it behaves surprisingly on unicode inputs. Use frombuffer instead\n",
      "  if __name__ == '__main__':\n"
     ]
    }
   ],
   "source": [
    "for filename in file:\n",
    "    data = loaddata(folder+\"//\"+filename)\n",
    "    traindata.append(data)\n",
    "    trainlb.append(filename[0])"
   ]
  },
  {
   "cell_type": "code",
   "execution_count": null,
   "metadata": {},
   "outputs": [],
   "source": []
  }
 ],
 "metadata": {
  "kernelspec": {
   "display_name": "Python 3",
   "language": "python",
   "name": "python3"
  },
  "language_info": {
   "codemirror_mode": {
    "name": "ipython",
    "version": 3
   },
   "file_extension": ".py",
   "mimetype": "text/x-python",
   "name": "python",
   "nbconvert_exporter": "python",
   "pygments_lexer": "ipython3",
   "version": "3.6.8"
  }
 },
 "nbformat": 4,
 "nbformat_minor": 2
}
