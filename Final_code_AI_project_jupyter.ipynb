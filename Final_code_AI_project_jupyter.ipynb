{
 "cells": [
  {
   "cell_type": "code",
   "execution_count": null,
   "metadata": {},
   "outputs": [],
   "source": [
    "#mkdir AI_project Test"
   ]
  },
  {
   "cell_type": "code",
   "execution_count": null,
   "metadata": {},
   "outputs": [],
   "source": [
    "#mv BTEST1.wav BTEST2.wav BTEST3.wav BTEST4.wav BTEST5.wav AI_project"
   ]
  },
  {
   "cell_type": "code",
   "execution_count": null,
   "metadata": {},
   "outputs": [],
   "source": [
    "import numpy as np   \n",
    "import wave\n",
    "import os \n",
    "import matplotlib.pyplot as plt\n",
    "from scipy.io import wavfile\n",
    "from scipy.fftpack import fft,fftfreq"
   ]
  },
  {
   "cell_type": "code",
   "execution_count": null,
   "metadata": {},
   "outputs": [],
   "source": [
    "def loaddata (path):                      # load the data and extrat frequencies\n",
    "                                          #of each sound file  \n",
    "  samplerate, data = wavfile.read(path)   # Return the sample rate \n",
    "  samplerate                              #(in samples/sec) and data from \n",
    "  data.shape                              #a WAV file \n",
    "  samples = data.shape[0]\n",
    "  samples\n",
    "  datafft = fft(data)   # returns Fast Fourier Transform of the data \n",
    "  fftabs = abs(datafft)  # Take absolute values \n",
    "  freqs = fftfreq(samples,1/samplerate) #Return the Discrete Fourier Transform \n",
    "                                        #sample frequencies.\n",
    "  Frequency = []\n",
    "  for i in range(len(fftabs)):\n",
    "    Frequency.append(data[i][0])  # This For loop to extract the first \n",
    "                                  #value of data list\n",
    "\n",
    "  return Frequency\n",
    "  "
   ]
  },
  {
   "cell_type": "code",
   "execution_count": null,
   "metadata": {},
   "outputs": [],
   "source": [
    "traindata = []       # an empty list to append later \n",
    "trainlb = []         # an empty list to append later  \n",
    "folder = 'AI_project'           # sound files are listed here  \n",
    "files = os.listdir(folder)    # Read files in Sounds folder \n",
    "files"
   ]
  },
  {
   "cell_type": "code",
   "execution_count": null,
   "metadata": {},
   "outputs": [],
   "source": [
    "for filename in files:    \n",
    "    # a for loop to check files before reading,mayby there is a checkpoint file\n",
    "    # appears.\n",
    "    if filename[0]=='B' or filename[0]=='M':    \n",
    "      \n",
    "      # send each sound file to loadfile function \n",
    "      data = loaddata (folder+\"//\" +filename)   \n",
    "      # crop the sound files to min length of them which is 747859\n",
    "      traindata.append(data[0:747859]) \n",
    "      # append Labels to trainlb either B for Braa and M for Mohammed \n",
    "      trainlb.append(filename[0])               \n",
    "      print(filename)"
   ]
  },
  {
   "cell_type": "code",
   "execution_count": null,
   "metadata": {},
   "outputs": [],
   "source": [
    "# convert traindata to a numpy array \n",
    "traindata= np.array(traindata)         \n",
    "# reshape the lable list to one column and multible rows \n",
    "trainlb = np.array(trainlb).reshape(-1,1)  "
   ]
  },
  {
   "cell_type": "code",
   "execution_count": null,
   "metadata": {},
   "outputs": [],
   "source": [
    "#check the type of lable list before entering the model\n",
    "print(type(trainlb)) \n",
    "# check the shape of lable list before entering the model\n",
    "print(trainlb.shape)   \n",
    "# check the type of train data before entering the model\n",
    "print(type(traindata)) \n",
    "# check the shape of train data before entering the model \n",
    "print(traindata.shape) "
   ]
  },
  {
   "cell_type": "code",
   "execution_count": null,
   "metadata": {},
   "outputs": [],
   "source": [
    "# use Label Encoder for B and M before training \n",
    "from sklearn.preprocessing import LabelEncoder    \n",
    "# create the LabelEncoder object \n",
    "le1 = LabelEncoder()\n",
    "# apply the LabelEncoder for train label data\n",
    "trainlb = le1.fit_transform(trainlb).reshape(-1,1)"
   ]
  },
  {
   "cell_type": "code",
   "execution_count": null,
   "metadata": {},
   "outputs": [],
   "source": [
    "# Use logisticRegression model for the case \n",
    "from sklearn.linear_model import LogisticRegression\n",
    "model = LogisticRegression(C=4.0,max_iter=1000000, verbose=1,penalty='l1')"
   ]
  },
  {
   "cell_type": "code",
   "execution_count": null,
   "metadata": {},
   "outputs": [],
   "source": [
    "# Train the data\n",
    "model.fit(traindata,trainlb)"
   ]
  },
  {
   "cell_type": "code",
   "execution_count": null,
   "metadata": {},
   "outputs": [],
   "source": [
    "### Testing "
   ]
  },
  {
   "cell_type": "code",
   "execution_count": null,
   "metadata": {},
   "outputs": [],
   "source": [
    "# load a test file \n",
    "testdata = loaddata ('Test/BTEST5.wav')"
   ]
  },
  {
   "cell_type": "code",
   "execution_count": null,
   "metadata": {},
   "outputs": [],
   "source": [
    "# crop the test file and send it to load data function\n",
    "testdata = testdata[0:747859]\n",
    "# reshape the data \n",
    "testdata = np.array(testdata).reshape(1,-1)\n",
    "print(type(testdata))\n",
    "print(testdata.shape)"
   ]
  },
  {
   "cell_type": "code",
   "execution_count": null,
   "metadata": {},
   "outputs": [],
   "source": [
    "# Prediction  \n",
    "Prediction = model.predict(testdata)"
   ]
  },
  {
   "cell_type": "code",
   "execution_count": null,
   "metadata": {},
   "outputs": [],
   "source": [
    "# Do inverse transform to find the predicted person \n",
    "Person = le1.inverse_transform(Prediction)\n",
    "if Person == 'B':\n",
    "  print (\"Braa Mohamad Salim Kakah\")\n",
    "if Person == 'M':\n",
    "    print (\"Mohammed AlNuaimi\")\n"
   ]
  },
  {
   "cell_type": "code",
   "execution_count": null,
   "metadata": {},
   "outputs": [],
   "source": []
  }
 ],
 "metadata": {
  "kernelspec": {
   "display_name": "Python 3",
   "language": "python",
   "name": "python3"
  },
  "language_info": {
   "codemirror_mode": {
    "name": "ipython",
    "version": 3
   },
   "file_extension": ".py",
   "mimetype": "text/x-python",
   "name": "python",
   "nbconvert_exporter": "python",
   "pygments_lexer": "ipython3",
   "version": "3.6.8"
  }
 },
 "nbformat": 4,
 "nbformat_minor": 2
}
